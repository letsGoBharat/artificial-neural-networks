{
 "cells": [
  {
   "cell_type": "code",
   "execution_count": 18,
   "metadata": {},
   "outputs": [],
   "source": [
    "#imports\n",
    "import numpy as np"
   ]
  },
  {
   "cell_type": "code",
   "execution_count": 188,
   "metadata": {},
   "outputs": [],
   "source": [
    "# test_code\n",
    "# arr = np.array([range(10),range(10),range(10),range(10)])\n",
    "# arr = np.transpose(arr)\n",
    "# print(arr.shape[1])\n",
    "# sum = np.sum(arr, axis = 1)\n",
    "# sum = np.transpose(sum)\n",
    "# print(sum)\n",
    "#network_dimensions = np.array([5, 5])\n",
    "#print(network_dimensions)"
   ]
  },
  {
   "cell_type": "code",
   "execution_count": 184,
   "metadata": {},
   "outputs": [],
   "source": [
    "class SOM:\n",
    "    def __init__(self, weight_dim, data):\n",
    "        self.weights = np.random.rand(weight_dim[0], weight_dim[1])\n",
    "        self.data = data\n",
    "        \n",
    "    def train_network(self, iterations, eta):\n",
    "        for epoch in range(iterations):\n",
    "            new_weights = self.update_weights(self.data, self.weights, epoch, eta)\n",
    "            \n",
    "        return new_weights\n",
    "        \n",
    "        \n",
    "    def update_weights(self, animals, input_weights, epoch, eta):\n",
    "        for i in range(animals.shape[0]):\n",
    "            animal = animals[i, :]\n",
    "            winner = self.calculate_winner(animal, input_weights)\n",
    "            #print(winner)\n",
    "            nbrhd = self.find_neighbourhood(winner, input_weights.shape[0], epoch)\n",
    "            input_weights[nbrhd, :] = input_weights[nbrhd, :] + eta * (animal - input_weights[nbrhd])\n",
    "              \n",
    "        return input_weights\n",
    "            \n",
    "                  \n",
    "    def calculate_winner(self, each_animal, weights_input):\n",
    "        most_similar = self.distance(each_animal, weights_input[0, :])\n",
    "        most_similar_index = 0\n",
    "        for j in range(weights_input.shape[0]):\n",
    "            sim_dis = self.distance(each_animal, weights_input[j, :])\n",
    "            if(sim_dis > most_similar):\n",
    "                most_similar = sim_dis\n",
    "                most_similar_index = j\n",
    "\n",
    "        return most_similar_index\n",
    "    \n",
    "    \n",
    "    def distance(self, x, y):\n",
    "        dis = np.dot((x-y).T, x-y)\n",
    "        return dis\n",
    "    \n",
    "    \n",
    "    def find_neighbourhood(self, winner_node, max_range, epoch):\n",
    "        nbrhd_range = int(max_range/2 - epoch*2.5)\n",
    "        #print(epoch)\n",
    "        nbrhd_min = np.max([0, winner_node-nbrhd_range])\n",
    "        nbrhd_max = np.min([max_range, winner_node+nbrhd_range])\n",
    "        return np.arange(nbrhd_min, nbrhd_max)\n",
    "    \n",
    "    \n",
    "    def find_reordered_animals(self, trained_weights, animal_data, animal_names):\n",
    "        ordered_animals = []\n",
    "        for i in range(animal_data.shape[0]):\n",
    "            ordered_animal = animal_data[i, :]\n",
    "            ordered_winner = self.calculate_winner(ordered_animal, trained_weights)\n",
    "            ordered_animals.append([ordered_winner, animal_names[i]])\n",
    "            \n",
    "        ordered_animals = np.array(ordered_animals, dtype = object)\n",
    "        ordered_animals = ordered_animals[ordered_animals[:,0].argsort()]\n",
    "            \n",
    "            \n",
    "        return ordered_animals\n",
    "    \n",
    "        \n",
    "    "
   ]
  },
  {
   "cell_type": "code",
   "execution_count": 180,
   "metadata": {},
   "outputs": [],
   "source": [
    "#animal_data - 1\n",
    "animal_data = np.loadtxt(\"data_lab2/animals.dat\", dtype='i', delimiter=',')\n",
    "animal_names = np.loadtxt(\"data_lab2/animalnames.txt\", dtype=str) # names of 32 animals\n",
    "\n",
    "animal_data = np.reshape(animal_data, (32, 84)) # each row corresponds to one animal , 32 animals in total\n",
    "\n",
    "#print(animal_names)"
   ]
  },
  {
   "cell_type": "code",
   "execution_count": 187,
   "metadata": {},
   "outputs": [
    {
     "name": "stdout",
     "output_type": "stream",
     "text": [
      "[[8 \"'walrus'\"]\n",
      " [16 \"'penguin'\"]\n",
      " [16 \"'frog'\"]\n",
      " [16 \"'duck'\"]\n",
      " [36 \"'rat'\"]\n",
      " [36 \"'kangaroo'\"]\n",
      " [36 \"'horse'\"]\n",
      " [36 \"'elephant'\"]\n",
      " [36 \"'antelop'\"]\n",
      " [36 \"'bat'\"]\n",
      " [58 \"'grasshopper'\"]\n",
      " [58 \"'butterfly'\"]\n",
      " [58 \"'spider'\"]\n",
      " [58 \"'housefly'\"]\n",
      " [58 \"'moskito'\"]\n",
      " [68 \"'beetle'\"]\n",
      " [72 \"'cat'\"]\n",
      " [78 \"'skunk'\"]\n",
      " [78 \"'ape'\"]\n",
      " [83 \"'rabbit'\"]\n",
      " [83 \"'dog'\"]\n",
      " [83 \"'bear'\"]\n",
      " [83 \"'hyena'\"]\n",
      " [83 \"'lion'\"]\n",
      " [87 \"'ostrich'\"]\n",
      " [87 \"'pelican'\"]\n",
      " [88 \"'seaturtle'\"]\n",
      " [88 \"'crocodile'\"]\n",
      " [89 \"'dragonfly'\"]\n",
      " [93 \"'pig'\"]\n",
      " [93 \"'giraffe'\"]\n",
      " [93 \"'camel'\"]]\n"
     ]
    }
   ],
   "source": [
    "som = SOM((100, 84), animal_data)\n",
    "trained_weights = som.train_network(20, 0.2)\n",
    "#print(np.shape(trained_weights))\n",
    "reordered_animals = som.find_reordered_animals(trained_weights, animal_data, animal_names)\n",
    "print(reordered_animals)"
   ]
  }
 ],
 "metadata": {
  "kernelspec": {
   "display_name": "Python 3",
   "language": "python",
   "name": "python3"
  },
  "language_info": {
   "codemirror_mode": {
    "name": "ipython",
    "version": 3
   },
   "file_extension": ".py",
   "mimetype": "text/x-python",
   "name": "python",
   "nbconvert_exporter": "python",
   "pygments_lexer": "ipython3",
   "version": "3.7.4"
  }
 },
 "nbformat": 4,
 "nbformat_minor": 2
}
