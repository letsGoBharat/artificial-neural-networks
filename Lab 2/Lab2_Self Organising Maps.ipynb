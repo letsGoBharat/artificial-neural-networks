{
 "cells": [
  {
   "cell_type": "code",
   "execution_count": 270,
   "metadata": {},
   "outputs": [],
   "source": [
    "#imports\n",
    "import numpy as np\n",
    "import matplotlib.pyplot as plt"
   ]
  },
  {
   "cell_type": "code",
   "execution_count": 142,
   "metadata": {},
   "outputs": [
    {
     "name": "stdout",
     "output_type": "stream",
     "text": [
      "<class 'numpy.ndarray'>\n",
      "[ 0  5 10 15 20 25 30 35 40 45 50 55]\n",
      "\n",
      "\n",
      "0\n",
      "5\n",
      "10\n",
      "15\n",
      "20\n",
      "25\n",
      "30\n",
      "35\n",
      "40\n",
      "45\n",
      "50\n",
      "55\n"
     ]
    }
   ],
   "source": [
    "# test_code\n",
    "# arr = np.array([range(10),range(10),range(10),range(10)])\n",
    "# arr = np.transpose(arr)\n",
    "# print(arr.shape[1])\n",
    "# sum = np.sum(arr, axis = 1)\n",
    "# sum = np.transpose(sum)\n",
    "# print(sum)\n",
    "#network_dimensions = np.array([5, 5])\n",
    "#print(network_dimensions)\n",
    "a = np.arange(0,60,5)\n",
    "print(type(a))\n",
    "#a = a.reshape(3,4)\n",
    "\n",
    "print(a)\n",
    "print('\\n')\n",
    "\n",
    "for x in np.nditer(a):\n",
    "     print(x)"
   ]
  },
  {
   "cell_type": "code",
   "execution_count": 281,
   "metadata": {},
   "outputs": [],
   "source": [
    "class SOM:\n",
    "    def __init__(self, weight_dim, data):\n",
    "        self.weights = np.random.rand(weight_dim[0], weight_dim[1])\n",
    "        self.data = data\n",
    "        \n",
    "    def train_network(self, iterations, eta, data_type):\n",
    "        for epoch in range(iterations):\n",
    "            new_weights = self.update_weights(self.data, self.weights, epoch, eta, data_type)\n",
    "            \n",
    "        return new_weights\n",
    "        \n",
    "        \n",
    "    def update_weights(self, input_data, input_weights, epoch, eta, data_type):\n",
    "        for i in range(input_data.shape[0]):\n",
    "            data_row = input_data[i, :]\n",
    "            winner = self.calculate_winner(data_row, input_weights)\n",
    "            #print(winner)\n",
    "            if data_type is 'animal' or 'votes':\n",
    "                nbrhd = self.find_neighbourhood(winner, input_weights.shape[0], epoch)\n",
    "            elif data_type is 'tour':\n",
    "                nbrhd = self.find_cyclic_neighbourhood(winner, epoch)\n",
    "#             elif data_type is 'votes':\n",
    "#                 nbrhd = self.find_neighbourhood(winner, epoch)\n",
    "                \n",
    "            input_weights[nbrhd, :] = input_weights[nbrhd, :] + eta * (data_row - input_weights[nbrhd])\n",
    "              \n",
    "        return input_weights\n",
    "            \n",
    "                  \n",
    "    def calculate_winner(self, data_row, weights_input):\n",
    "        most_similar = self.distance(data_row, weights_input[0, :])\n",
    "        most_similar_index = 0\n",
    "        for j in range(weights_input.shape[0]):\n",
    "            sim_dis = self.distance(data_row, weights_input[j, :])\n",
    "            if(sim_dis > most_similar):\n",
    "                most_similar = sim_dis\n",
    "                most_similar_index = j\n",
    "\n",
    "        return most_similar_index\n",
    "    \n",
    "    \n",
    "    def distance(self, x, y):\n",
    "        dis = np.dot((x-y).T, x-y)\n",
    "        return dis\n",
    "    \n",
    "    \n",
    "    # 1 D neighbourhood for animal data\n",
    "    def find_neighbourhood(self, winner_node, max_range, epoch):\n",
    "        nbrhd_range = int(max_range/2 - epoch*2.5)\n",
    "        nbrhd_min = np.max([0, winner_node-nbrhd_range])\n",
    "        nbrhd_max = np.min([max_range, winner_node+nbrhd_range])\n",
    "        return np.arange(nbrhd_min, nbrhd_max)\n",
    "\n",
    "\n",
    "    # Circular neighbourhood for tour data\n",
    "    def find_cyclic_neighbourhood(self, winner_node_circular, epoch):\n",
    "        nbrhd_range = int(2 - (epoch)//10)\n",
    "        neighbors_list = [winner_node_circular]\n",
    "        if(nbrhd_range==2):\n",
    "            if(winner_node_circular-nbrhd_range < 0):\n",
    "                neighbors_list.append(winner_node_circular-1)\n",
    "                neighbors_list.append(winner_node_circular+1)\n",
    "            elif(winner_node_circular+nbrhd_range >= 10):\n",
    "                neighbors_list.append(0)    \n",
    "                neighbors_list.append(winner_node_circular-1)\n",
    "            else : \n",
    "                neighbors_list.append(winner_node_circular-1)\n",
    "                neighbors_list.append(winner_node_circular+1)\n",
    "        if(nbrhd_range==1):\n",
    "            if(winner_node_circular+nbrhd_range > 10):\n",
    "                neighbors_list.append(0)\n",
    "            else:\n",
    "                if(winner_node_circular==9):\n",
    "                    i=-1\n",
    "                else:\n",
    "                    i=np.random.choice([-1,1])\n",
    "                neighbors_list.append(winner_node_circular+i)  \n",
    "                \n",
    "                \n",
    "        return neighbors_list\n",
    "    \n",
    "    \n",
    "    # Manhanttan neighbourhood for MPs data\n",
    "#     def find_manhattan_neighbourhood(self, winner_node_mps, epoch):\n",
    "        \n",
    "        \n",
    "    \n",
    "    \n",
    "    #Animal reordering\n",
    "    def find_reordered_animals(self, trained_weights, animal_data, animal_names):\n",
    "        ordered_animals = []\n",
    "        for i in range(animal_data.shape[0]):\n",
    "            ordered_animal = animal_data[i, :]\n",
    "            ordered_winner = self.calculate_winner(ordered_animal, trained_weights)\n",
    "            ordered_animals.append([ordered_winner, animal_names[i]])\n",
    "            \n",
    "        ordered_animals = np.array(ordered_animals, dtype = object)\n",
    "        ordered_animals = ordered_animals[ordered_animals[:,0].argsort()]\n",
    "            \n",
    "            \n",
    "        return ordered_animals\n",
    "    \n",
    "    \n",
    "    #Cities reordering\n",
    "    def find_reordered_cities(self, trained_city_weights, city_data):\n",
    "        ordered_cities = []\n",
    "        for i in range(city_data.shape[0]):\n",
    "            ordered_city = city_data[i, :]\n",
    "            ordered_city_winner = self.calculate_winner(ordered_city, trained_city_weights)\n",
    "            ordered_cities.append([ordered_city_winner, i])\n",
    "            #ordered_cities.append(ordered_city_winner)\n",
    "            \n",
    "        ordered_cities = np.array(ordered_cities, dtype = object)\n",
    "        ordered_cities = ordered_cities[ordered_cities[:,0].argsort()]\n",
    "            \n",
    "            \n",
    "        return ordered_cities\n",
    "    \n",
    "        \n",
    "    "
   ]
  },
  {
   "cell_type": "markdown",
   "metadata": {},
   "source": [
    "### Topological ordering of animal Species"
   ]
  },
  {
   "cell_type": "code",
   "execution_count": 279,
   "metadata": {},
   "outputs": [],
   "source": [
    "#animal_data - 1\n",
    "animal_data = np.loadtxt(\"data_lab2/animals.dat\", dtype='i', delimiter=',')\n",
    "animal_names = np.loadtxt(\"data_lab2/animalnames.txt\", dtype=str) # names of 32 animals\n",
    "\n",
    "animal_data = np.reshape(animal_data, (32, 84)) # each row corresponds to one animal , 32 animals in total\n",
    "\n",
    "#print(animal_names)"
   ]
  },
  {
   "cell_type": "code",
   "execution_count": 22,
   "metadata": {},
   "outputs": [
    {
     "name": "stdout",
     "output_type": "stream",
     "text": [
      "[[3 \"'crocodile'\"]\n",
      " [3 \"'seaturtle'\"]\n",
      " [3 \"'lion'\"]\n",
      " [12 \"'bat'\"]\n",
      " [12 \"'kangaroo'\"]\n",
      " [12 \"'elephant'\"]\n",
      " [12 \"'dog'\"]\n",
      " [17 \"'horse'\"]\n",
      " [17 \"'bear'\"]\n",
      " [21 \"'housefly'\"]\n",
      " [21 \"'dragonfly'\"]\n",
      " [21 \"'moskito'\"]\n",
      " [21 \"'butterfly'\"]\n",
      " [21 \"'beetle'\"]\n",
      " [21 \"'grasshopper'\"]\n",
      " [61 \"'rat'\"]\n",
      " [68 \"'pig'\"]\n",
      " [68 \"'antelop'\"]\n",
      " [68 \"'ape'\"]\n",
      " [69 \"'pelican'\"]\n",
      " [69 \"'penguin'\"]\n",
      " [71 \"'cat'\"]\n",
      " [71 \"'skunk'\"]\n",
      " [74 \"'hyena'\"]\n",
      " [83 \"'giraffe'\"]\n",
      " [83 \"'rabbit'\"]\n",
      " [83 \"'camel'\"]\n",
      " [84 \"'ostrich'\"]\n",
      " [89 \"'walrus'\"]\n",
      " [90 \"'frog'\"]\n",
      " [90 \"'duck'\"]\n",
      " [99 \"'spider'\"]]\n"
     ]
    }
   ],
   "source": [
    "som = SOM((100, 84), animal_data)\n",
    "trained_weights = som.train_network(20, 0.2, 'animal')\n",
    "#print(np.shape(trained_weights))\n",
    "reordered_animals = som.find_reordered_animals(trained_weights, animal_data, animal_names)\n",
    "print(reordered_animals)"
   ]
  },
  {
   "cell_type": "markdown",
   "metadata": {},
   "source": [
    "### Cyclic Tour"
   ]
  },
  {
   "cell_type": "code",
   "execution_count": 240,
   "metadata": {},
   "outputs": [],
   "source": [
    "#Cities data\n",
    "cities_data = np.loadtxt(\"data_lab2/cities.dat\", delimiter = ',', dtype = float, comments = '%')\n",
    "#print(cities_data)"
   ]
  },
  {
   "cell_type": "code",
   "execution_count": 253,
   "metadata": {
    "scrolled": false
   },
   "outputs": [
    {
     "data": {
      "text/plain": [
       "[<matplotlib.lines.Line2D at 0x115c36f50>]"
      ]
     },
     "execution_count": 253,
     "metadata": {},
     "output_type": "execute_result"
    },
    {
     "data": {
      "image/png": "[encoded data removed]",
      "text/plain": [
       "<Figure size 432x288 with 1 Axes>"
      ]
     },
     "metadata": {
      "needs_background": "light"
     },
     "output_type": "display_data"
    }
   ],
   "source": [
    "som_city = SOM((10, 2), cities_data)\n",
    "trained_weights_cities = som_city.train_network(20, 0.2, 'tour')\n",
    "final_tour = []\n",
    "reordered_cities = som_city.find_reordered_cities(trained_weights_cities, cities_data)\n",
    "reordered_cities = reordered_cities[:, 1].tolist()\n",
    "for n in reordered_cities:\n",
    "    final_tour.append(cities_data[n])\n",
    "\n",
    "final_tour.append(final_tour[0])\n",
    "final_tour = np.array(final_tour)\n",
    "#print(final_tour)\n",
    "plt.scatter(cities_data[:, 0], cities_data[:, 1])\n",
    "plt.plot(final_tour[:, 0], final_tour[:, 1], color = 'red')"
   ]
  },
  {
   "cell_type": "markdown",
   "metadata": {},
   "source": [
    "### Vote of MPs"
   ]
  },
  {
   "cell_type": "code",
   "execution_count": 282,
   "metadata": {
    "scrolled": true
   },
   "outputs": [],
   "source": [
    "#MP data\n",
    "votes_data = np.loadtxt(\"data_lab2/votes.dat\", dtype=float, delimiter=',')\n",
    "mp_names = np.loadtxt(\"data_lab2/mpnames.txt\", dtype = str, delimiter = '\\n') #names of 349 MPs\n",
    "\n",
    "votes_data = np.reshape(votes_data, (349, 31))\n",
    "#print((votes_data))\n",
    "#print(np.shape(mp_names))"
   ]
  },
  {
   "cell_type": "code",
   "execution_count": 285,
   "metadata": {},
   "outputs": [
    {
     "name": "stdout",
     "output_type": "stream",
     "text": [
      "(100, 31)\n"
     ]
    }
   ],
   "source": [
    "som_mps = SOM((100,31), votes_data)\n",
    "trained_weights_mps = som_mps.train_network(20, 0.2, 'votes')\n",
    "print(np.shape(trained_weights_mps))"
   ]
  }
 ],
 "metadata": {
  "kernelspec": {
   "display_name": "Python 3",
   "language": "python",
   "name": "python3"
  },
  "language_info": {
   "codemirror_mode": {
    "name": "ipython",
    "version": 3
   },
   "file_extension": ".py",
   "mimetype": "text/x-python",
   "name": "python",
   "nbconvert_exporter": "python",
   "pygments_lexer": "ipython3",
   "version": "3.7.4"
  }
 },
 "nbformat": 4,
 "nbformat_minor": 2
}
