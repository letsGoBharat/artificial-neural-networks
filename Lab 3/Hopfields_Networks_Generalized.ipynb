{
 "cells": [
  {
   "cell_type": "code",
   "execution_count": 3,
   "metadata": {
    "scrolled": true
   },
   "outputs": [
    {
     "name": "stdout",
     "output_type": "stream",
     "text": [
      "distorted\n"
     ]
    },
    {
     "data": {
      "text/plain": [
       "<Figure size 640x480 with 1 Axes>"
      ]
     },
     "metadata": {},
     "output_type": "display_data"
    },
    {
     "data": {
      "text/plain": [
       "<Figure size 640x480 with 1 Axes>"
      ]
     },
     "metadata": {},
     "output_type": "display_data"
    },
    {
     "data": {
      "text/plain": [
       "<Figure size 640x480 with 1 Axes>"
      ]
     },
     "metadata": {},
     "output_type": "display_data"
    },
    {
     "name": "stdout",
     "output_type": "stream",
     "text": [
      "img after updating\n"
     ]
    },
    {
     "data": {
      "text/plain": [
       "<Figure size 640x480 with 1 Axes>"
      ]
     },
     "metadata": {},
     "output_type": "display_data"
    },
    {
     "data": {
      "text/plain": [
       "<Figure size 640x480 with 1 Axes>"
      ]
     },
     "metadata": {},
     "output_type": "display_data"
    },
    {
     "data": {
      "text/plain": [
       "<Figure size 640x480 with 1 Axes>"
      ]
     },
     "metadata": {},
     "output_type": "display_data"
    },
    {
     "data": {
      "text/plain": [
       "False"
      ]
     },
     "execution_count": 3,
     "metadata": {},
     "output_type": "execute_result"
    }
   ],
   "source": [
    "import numpy as np\n",
    "from matplotlib import pyplot as plt\n",
    "import random\n",
    "\n",
    "def draw_1_line ( l1, color1 ):\n",
    "    l0 = np.arange(1, np.size(l1)+1, 1)\n",
    "    fig = plt.figure() \n",
    "    ax = plt.subplot(111)\n",
    "    ax.plot(l0, l1, c=color1 )\n",
    "    ax.legend()\n",
    "    plt.show()\n",
    "\n",
    "def draw_2_lines (l1, color1, label1, l2, color2, label2):\n",
    "    l0 = np.arange(1, np.size(l1)+1, 1)\n",
    "    fig = plt.figure()\n",
    "    ax = plt.subplot(111)\n",
    "    ax.plot(l0, l1, c=color1 )\n",
    "    ax.plot(l0, l2, c=color2 )\n",
    "    ax.set_ylabel (\"nb of patterns used to compute weights\")\n",
    "    ax.set_xlabel (\"nb of stable patterns\")\n",
    "    ax.set_title('\"nb of patterns used to compute weights VS nb of stable patterns')\n",
    "    xmin=1\n",
    "    xmax=60\n",
    "    ax.set_xlim([xmin,xmax])\n",
    "    ymin= -2\n",
    "    ymax= 20\n",
    "    ax.set_ylim([ymin,ymax])\n",
    "\n",
    "    plt.show()   \n",
    "    \n",
    "def energy(pattern, weight):\n",
    "    energy = np.zeros ((1,len (pattern)))\n",
    "    for i in range (0, len (pattern)): \n",
    "        m = np.dot(pattern[i], weight)\n",
    "        energy[0][i] = -1 * np.dot(m, pattern[i].transpose())\n",
    "        \n",
    "    return energy[0][0]\n",
    "\n",
    "def sign_fxn(x):\n",
    "    return np.where(x < 0, -1, 1)\n",
    "\n",
    "\n",
    "\n",
    "def distort_pattern (pic_data, nb_distorted_bits ):\n",
    "    indicies = np.arange(len(pic_data[0]))\n",
    "    np.random.shuffle(indicies)\n",
    "    pic_data_distorted = np.copy(pic_data)\n",
    "    for pattern_idx in range (0,len(pic_data_distorted) ):\n",
    "        for i in range(nb_distorted_bits):\n",
    "            pic_data_distorted[pattern_idx][indicies[i]] = -1 * pic_data[pattern_idx][indicies[i]]\n",
    "        \n",
    "    return pic_data_distorted\n",
    "\n",
    "def show_img (text ,pic_data_distorted):\n",
    "    print (text)\n",
    "    for i in range (0, len (pic_data_distorted) ):\n",
    "        actual_from_distorted = np.reshape(pic_data_distorted[i], (32, 32))\n",
    "        plt.imshow(actual_from_distorted, interpolation='nearest')\n",
    "        plt.show()    \n",
    "    return \n",
    "\n",
    "def generate_two_patterns ():\n",
    "    pic_data = np.loadtxt('data/pict.dat', delimiter = ',', dtype = 'i')\n",
    "    rows_pic_data = int(pic_data.shape[0]/1024)\n",
    "    pic_data = np.reshape(pic_data, (rows_pic_data,1024))\n",
    "\n",
    "    memorized_pattern_stack = np.vstack([pic_data[4],pic_data[5],pic_data[6]]) \n",
    "    \n",
    "    nb_distorted_bits = 100\n",
    "    distorted_pattern = distort_pattern (pic_data,nb_distorted_bits)\n",
    "    distorted_pattern_stack = np.vstack([distorted_pattern[4], distorted_pattern[5], distorted_pattern[6] ])\n",
    "    show_img (\"distorted\" ,distorted_pattern_stack)\n",
    "    return memorized_pattern_stack, distorted_pattern_stack\n",
    "\n",
    "\n",
    "\n",
    "\n",
    "def store_patterns(input_pattern):\n",
    "        weight_matrix = np.dot(input_pattern.transpose(), input_pattern)\n",
    "        output_pattern = sign_fxn(np.dot(input_pattern, weight_matrix))\n",
    "#         print (\"nb non zeros\",np.count_nonzero (input_pattern - output_pattern) )\n",
    "        #print(\"has the weight memorized the patterns?\",np.array_equal(input_pattern, output_pattern)) #to check if the network was able to store the patterns\n",
    "        return weight_matrix\n",
    "\n",
    "def check_convergence_batch(input_pattern, weight_matrix, distorted_pattern, max_iterations, showImgOrNot):\n",
    "    iterations = 0\n",
    "    while not np.array_equal(input_pattern, distorted_pattern) and iterations < max_iterations:\n",
    "        distorted_pattern = sign_fxn(np.dot(distorted_pattern, weight_matrix))\n",
    "        iterations += 1\n",
    "    stable_or_not = np.array_equal(input_pattern, distorted_pattern)\n",
    "    #print(\"is it stable? \",stable_or_not)\n",
    "#     print(\"iterations\",iterations) # after how many iterations\n",
    "    if showImgOrNot == \"show img\":\n",
    "        show_img (\"img after updating\" ,distorted_pattern) \n",
    "    return stable_or_not \n",
    "\n",
    "max_iterations = 10\n",
    "memorized_pattern_stack, distorted_pattern_stack = generate_two_patterns ()\n",
    "weight_matrix = store_patterns(memorized_pattern_stack)\n",
    "\n",
    "check_convergence_batch(memorized_pattern_stack, weight_matrix, distorted_pattern_stack, max_iterations, \"show img\") \n",
    "\n"
   ]
  },
  {
   "cell_type": "code",
   "execution_count": 4,
   "metadata": {},
   "outputs": [
    {
     "name": "stdout",
     "output_type": "stream",
     "text": [
      "nb_patterns: 0\n",
      "nb_patterns: 1\n",
      "nb_patterns: 2\n",
      "nb_patterns: 3\n",
      "nb_patterns: 4\n",
      "nb_patterns: 5\n",
      "nb_patterns: 6\n",
      "nb_patterns: 7\n",
      "nb_patterns: 8\n",
      "nb_patterns: 9\n",
      "nb_patterns: 10\n",
      "nb_patterns: 11\n",
      "nb_patterns: 12\n",
      "nb_patterns: 13\n",
      "nb_patterns: 14\n",
      "nb_patterns: 15\n",
      "nb_patterns: 16\n",
      "nb_patterns: 17\n",
      "nb_patterns: 18\n",
      "nb_patterns: 19\n",
      "nb_patterns: 20\n",
      "nb_patterns: 21\n",
      "nb_patterns: 22\n",
      "nb_patterns: 23\n",
      "nb_patterns: 24\n",
      "nb_patterns: 25\n",
      "nb_patterns: 26\n",
      "nb_patterns: 27\n",
      "nb_patterns: 28\n",
      "nb_patterns: 29\n",
      "nb_patterns: 30\n",
      "nb_patterns: 31\n",
      "nb_patterns: 32\n",
      "nb_patterns: 33\n",
      "nb_patterns: 34\n",
      "nb_patterns: 35\n",
      "nb_patterns: 36\n",
      "nb_patterns: 37\n",
      "nb_patterns: 38\n",
      "nb_patterns: 39\n",
      "nb_patterns: 40\n",
      "nb_patterns: 41\n",
      "nb_patterns: 42\n",
      "nb_patterns: 43\n",
      "nb_patterns: 44\n",
      "nb_patterns: 45\n",
      "nb_patterns: 46\n",
      "nb_patterns: 47\n",
      "nb_patterns: 48\n",
      "nb_patterns: 49\n",
      "nb_patterns: 50\n",
      "nb_patterns: 51\n",
      "nb_patterns: 52\n",
      "nb_patterns: 53\n",
      "nb_patterns: 54\n",
      "nb_patterns: 55\n",
      "nb_patterns: 56\n",
      "nb_patterns: 57\n",
      "nb_patterns: 58\n",
      "nb_patterns: 59\n",
      "nb_patterns: 60\n",
      "nb_patterns: 61\n",
      "nb_patterns: 62\n",
      "nb_patterns: 63\n",
      "nb_patterns: 64\n",
      "nb_patterns: 65\n",
      "nb_patterns: 66\n",
      "nb_patterns: 67\n",
      "nb_patterns: 68\n",
      "nb_patterns: 69\n",
      "nb_patterns: 70\n",
      "nb_patterns: 71\n",
      "nb_patterns: 72\n",
      "nb_patterns: 73\n",
      "nb_patterns: 74\n",
      "nb_patterns: 75\n",
      "nb_patterns: 76\n",
      "nb_patterns: 77\n",
      "nb_patterns: 78\n",
      "nb_patterns: 79\n",
      "nb_patterns: 80\n",
      "nb_patterns: 81\n",
      "nb_patterns: 82\n",
      "nb_patterns: 83\n",
      "nb_patterns: 84\n",
      "nb_patterns: 85\n",
      "nb_patterns: 86\n",
      "nb_patterns: 87\n",
      "nb_patterns: 88\n",
      "nb_patterns: 89\n",
      "nb_patterns: 90\n",
      "nb_patterns: 91\n",
      "nb_patterns: 92\n",
      "nb_patterns: 93\n",
      "nb_patterns: 94\n",
      "nb_patterns: 95\n",
      "nb_patterns: 96\n",
      "nb_patterns: 97\n",
      "nb_patterns: 98\n",
      "nb_patterns: 99\n",
      "total_stable_list [1, 2, 3, 4, 5, 6, 7, 8, 9, 10, 11, 12, 13, 14, 15, 16, 17, 18, 19, 20, 21, 22, 23, 24, 25, 26, 27, 28, 29, 30, 31, 32, 33, 34, 35, 36, 37, 38, 39, 40, 41, 42, 43, 44, 45, 46, 47, 48, 49, 50, 51, 52, 53, 54, 55, 56, 57, 58, 59, 60, 61, 62, 63, 64, 65, 66, 67, 68, 69, 70, 71, 72, 73, 74, 75, 76, 77, 78, 79, 80, 81, 82, 83, 84, 85, 86, 87, 88, 89, 90, 91, 92, 93, 94, 95, 96, 97, 98, 99, 100, 101, 102, 103, 104, 105, 106, 107, 108, 109, 110, 111, 112, 113, 114, 115, 116, 117, 118, 119, 120, 121, 122, 123, 124, 125, 126, 127, 128, 129, 130, 131, 132, 133, 134, 135, 136, 137, 138, 139, 140, 141, 142, 143, 144, 145, 146, 147, 148, 149, 150, 151, 152, 153, 154, 155, 156, 157, 158, 159, 160, 161, 162, 163, 164, 165, 166, 167, 168, 169, 170, 171, 172, 173, 174, 175, 176, 177, 178, 179, 180, 181, 182, 183, 184, 185, 186, 187, 188, 189, 190, 191, 192, 193, 194, 195, 196, 197, 198, 199, 200, 201, 202, 203, 204, 205, 206, 207, 208, 209, 210, 211, 212, 213, 214, 215, 216, 217, 218, 219, 220, 221, 222, 223, 224, 225, 226, 227, 228, 229, 230, 231, 232, 233, 234, 235, 236, 237, 238, 239, 240, 241, 242, 243, 244, 245, 246, 247, 248, 249, 250, 251, 252, 253, 254, 255, 256, 257, 258, 259, 260, 261, 262, 263, 264, 265, 266, 267, 268, 269, 270, 271, 272, 273, 274, 275, 276, 277, 278, 279, 280, 281, 282, 283, 284, 285, 286, 287, 288, 289, 290, 291, 292, 293, 294, 295, 296, 297, 298, 299, 300]\n",
      "total_stable_list [1, 2, 3, 4, 5, 6, 7, 8, 9, 10, 10, 9, 10, 10, 12, 9, 16, 12, 11, 16, 8, 11, 5, 12, 9, 5, 6, 6, 13, 7, 8, 4, 3, 9, 4, 1, 2, 3, 4, 4, 2, 0, 1, 1, 3, 3, 3, 2, 2, 3, 2, 0, 3, 3, 1, 2, 1, 3, 3, 0, 2, 0, 1, 0, 0, 2, 2, 1, 0, 2, 2, 0, 0, 0, 1, 1, 0, 0, 1, 0, 1, 0, 1, 0, 0, 0, 0, 0, 0, 0, 0, 0, 1, 0, 0, 1, 0, 0, 0, 0, 0, 0, 0, 0, 0, 0, 2, 0, 0, 0, 0, 0, 0, 0, 1, 0, 0, 0, 0, 0, 0, 0, 0, 0, 0, 0, 0, 0, 0, 0, 0, 0, 1, 0, 0, 0, 0, 0, 0, 0, 0, 0, 0, 0, 0, 0, 0, 0, 0, 0, 0, 0, 0, 0, 0, 0, 0, 1, 0, 0, 0, 0, 0, 0, 0, 0, 0, 0, 0, 0, 0, 0, 1, 0, 0, 0, 0, 0, 0, 0, 0, 0, 0, 0, 0, 0, 0, 0, 0, 0, 0, 0, 0, 0, 0, 0, 0, 0, 0, 0, 0, 1, 0, 0, 0, 0, 0, 0, 1, 0, 0, 0, 0, 0, 0, 0, 0, 0, 0, 0, 0, 0, 0, 0, 0, 0, 0, 0, 0, 0, 0, 0, 0, 0, 0, 0, 0, 0, 0, 0, 0, 0, 0, 0, 0, 0, 0, 0, 0, 0, 0, 0, 0, 0, 0, 0, 0, 0, 0, 0, 0, 0, 0, 0, 0, 0, 0, 0, 0, 0, 0, 0, 0, 0, 0, 0, 0, 0, 0, 0, 0, 0, 0, 0, 0, 0, 0, 0, 1, 0, 0, 0, 0, 0, 0, 0, 0, 0, 0, 0]\n"
     ]
    }
   ],
   "source": [
    "\n",
    "\n",
    "def create_random_patterns (nb_patterns, nb_neurons, biased_mean):\n",
    "    random_patterns= np.zeros ((nb_patterns, nb_neurons))\n",
    "    for i in range (nb_patterns):\n",
    "        for j in range (nb_neurons):\n",
    "            a_value= random.gauss(biased_mean, 1)  # std variance =1\n",
    "            random_patterns[i][j] = sign_fxn ( a_value )\n",
    "    return random_patterns\n",
    "\n",
    "# test: how many random patterns can we store? \n",
    "def test (max_nb_patterns):\n",
    "    nb_neurons=1024\n",
    "    for i in range (0, max_nb_patterns):\n",
    "        print (\"nb_patterns:\", i)\n",
    "        nb_patterns=i\n",
    "        random_patterns = create_random_patterns (nb_patterns, nb_neurons, biased_mean)\n",
    "        weight_matrix = store_patterns(random_patterns)\n",
    "    return \n",
    "\n",
    "# 3.5.2 \n",
    "max_nb_patterns= 100\n",
    "test (max_nb_patterns)\n",
    "\n",
    "\n",
    "# from 3.5.4 to 3.5.7\n",
    "def draw_1_scatter (l0, l1, color):\n",
    "    plt.scatter (l0, l1, c=color)\n",
    "    plt.show()\n",
    "    \n",
    "def test_1_to_300_patterns (max_nb_patterns, biased_mean, remove_self_connection, noise):\n",
    "    nb_neurons = 100\n",
    "    flip_percentage = 0.05\n",
    "    nb_flip_bits = int (nb_neurons * flip_percentage)\n",
    "    total_stable_list = []\n",
    "    for i in range (1, max_nb_patterns+1):\n",
    "        nb_patterns=i\n",
    "        random_patterns = create_random_patterns (nb_patterns, nb_neurons, biased_mean)\n",
    "        #print(random_patterns)\n",
    "        weight_matrix = store_patterns(random_patterns)\n",
    "        if remove_self_connection == \"remove self connection\": \n",
    "            np.fill_diagonal(weight_matrix, 0)\n",
    "        \n",
    "        if (noise == \"flip\") :\n",
    "            distorted_pattern_stack = distort_pattern (random_patterns, nb_flip_bits)\n",
    "        elif (noise == \"no flip\") : \n",
    "            distorted_pattern_stack = np.copy(random_patterns) \n",
    "            \n",
    "        sum_stable = 0\n",
    "        for j in range (len(distorted_pattern_stack)):\n",
    "            max_iterations = 5\n",
    "            stable_or_not = check_convergence_batch(random_patterns[j], weight_matrix, distorted_pattern_stack[j], max_iterations, \"dont show img\")\n",
    "            one = np.where(stable_or_not == True, 1, 0)\n",
    "            sum_stable += one\n",
    "        total_stable_list.append (sum_stable) \n",
    "    print (\"total_stable_list\",total_stable_list)\n",
    "    return total_stable_list\n",
    "\n",
    "\n",
    "    \n",
    "max_nb_patterns= 300\n",
    "remove_self_connection = \"keep self connection\"\n",
    "#noise = \"no flip\"\n",
    "biased_mean=0\n",
    "total_nb_stable_patterns_list_NoFlip = test_1_to_300_patterns (max_nb_patterns, biased_mean, remove_self_connection, noise = 'no flip')\n",
    "\n",
    "#noise = \"flip\"\n",
    "total_nb_stable_patterns_list_Flip = test_1_to_300_patterns (max_nb_patterns, biased_mean, remove_self_connection, noise = 'flip')\n",
    "# "
   ]
  },
  {
   "cell_type": "code",
   "execution_count": 34,
   "metadata": {},
   "outputs": [
    {
     "name": "stdout",
     "output_type": "stream",
     "text": [
      "(3, 1024)\n"
     ]
    }
   ],
   "source": [
    "print(np.shape(distorted_pattern_stack))"
   ]
  },
  {
   "cell_type": "code",
   "execution_count": 41,
   "metadata": {},
   "outputs": [
    {
     "data": {
      "image/png": "[encoded data removed]",
      "text/plain": [
       "<Figure size 432x288 with 1 Axes>"
      ]
     },
     "metadata": {
      "needs_background": "light"
     },
     "output_type": "display_data"
    }
   ],
   "source": [
    "draw_2_lines (total_nb_stable_patterns_list_NoFlip, 'b', 'keepSelfConn_NoFlip',\n",
    "              total_nb_stable_patterns_list_Flip,   'r', 'keepSelfConn_Flip')"
   ]
  },
  {
   "cell_type": "code",
   "execution_count": 23,
   "metadata": {},
   "outputs": [
    {
     "name": "stdout",
     "output_type": "stream",
     "text": [
      "total_stable_list [1, 2, 3, 4, 5, 6, 7, 8, 9, 10, 11, 12, 13, 14, 15, 16, 17, 18, 19, 20, 21, 22, 23, 24, 25, 26, 27, 28, 29, 30, 31, 32, 33, 34, 35, 36, 37, 38, 39, 40, 41, 42, 43, 44, 45, 46, 47, 48, 49, 50, 51, 52, 53, 54, 55, 56, 57, 58, 59, 60, 61, 62, 63, 64, 65, 66, 67, 68, 69, 70, 71, 72, 73, 74, 75, 76, 77, 78, 79, 80, 81, 82, 83, 84, 85, 86, 87, 88, 89, 90, 91, 92, 93, 94, 95, 96, 97, 98, 99, 100, 101, 102, 103, 104, 105, 106, 107, 108, 109, 110, 111, 112, 113, 114, 115, 116, 117, 118, 119, 120, 121, 122, 123, 124, 125, 126, 127, 128, 129, 130, 131, 132, 133, 134, 135, 136, 137, 138, 139, 140, 141, 142, 143, 144, 145, 146, 147, 148, 149, 150, 151, 152, 153, 154, 155, 156, 157, 158, 159, 160, 161, 162, 163, 164, 165, 166, 167, 168, 169, 170, 171, 172, 173, 174, 175, 176, 177, 178, 179, 180, 181, 182, 183, 184, 185, 186, 187, 188, 189, 190, 191, 192, 193, 194, 195, 196, 197, 198, 199, 200, 201, 202, 203, 204, 205, 206, 207, 208, 209, 210, 211, 212, 213, 214, 215, 216, 217, 218, 219, 220, 221, 222, 223, 224, 225, 226, 227, 228, 229, 230, 231, 232, 233, 234, 235, 236, 237, 238, 239, 240, 241, 242, 243, 244, 245, 246, 247, 248, 249, 250, 251, 252, 253, 254, 255, 256, 257, 258, 259, 260, 261, 262, 263, 264, 265, 266, 267, 268, 269, 270, 271, 272, 273, 274, 275, 276, 277, 278, 279, 280, 281, 282, 283, 284, 285, 286, 287, 288, 289, 290, 291, 292, 293, 294, 295, 296, 297, 298, 299, 300]\n",
      "total_stable_list [1, 2, 3, 4, 5, 6, 7, 8, 9, 10, 10, 11, 11, 13, 12, 12, 13, 9, 6, 7, 6, 6, 2, 5, 1, 4, 1, 0, 1, 0, 1, 1, 0, 0, 0, 0, 0, 0, 0, 0, 0, 0, 0, 0, 0, 0, 0, 0, 0, 0, 0, 0, 0, 0, 0, 0, 0, 0, 0, 0, 0, 0, 0, 0, 0, 0, 0, 0, 0, 0, 0, 0, 0, 0, 0, 0, 0, 0, 0, 0, 0, 0, 0, 0, 0, 0, 0, 0, 0, 0, 0, 0, 0, 0, 0, 0, 0, 0, 0, 0, 0, 0, 0, 0, 0, 0, 0, 0, 0, 0, 0, 0, 0, 0, 0, 0, 0, 0, 0, 0, 0, 0, 0, 0, 0, 0, 0, 0, 0, 0, 0, 0, 0, 0, 0, 0, 0, 0, 0, 0, 0, 0, 0, 0, 0, 0, 0, 0, 0, 0, 0, 0, 0, 0, 0, 0, 0, 0, 0, 0, 0, 0, 0, 0, 0, 0, 0, 0, 0, 0, 0, 0, 0, 0, 0, 0, 0, 0, 0, 0, 0, 0, 0, 0, 0, 0, 0, 0, 0, 0, 0, 0, 0, 0, 0, 0, 0, 0, 0, 0, 0, 0, 0, 0, 0, 0, 0, 0, 0, 0, 0, 0, 0, 0, 0, 0, 0, 0, 0, 0, 0, 0, 0, 0, 0, 0, 0, 0, 0, 0, 0, 0, 0, 0, 0, 0, 0, 0, 0, 0, 0, 0, 0, 0, 0, 0, 0, 0, 0, 0, 0, 0, 0, 0, 0, 0, 0, 0, 0, 0, 0, 0, 0, 0, 0, 0, 0, 0, 0, 0, 0, 0, 0, 0, 0, 0, 0, 0, 0, 0, 0, 0, 0, 0, 0, 0, 0, 0, 0, 0, 0, 0, 0, 0, 0, 0, 0, 0, 0, 0]\n"
     ]
    }
   ],
   "source": [
    "remove_self_connection = \"remove self connection\" \n",
    "total_nb_stable_patterns_list_removeSelfConn_NoFlip = test_1_to_300_patterns (max_nb_patterns, biased_mean, remove_self_connection, noise = 'no flip')\n",
    "total_nb_stable_patterns_list_removeSelfConn_Flip = test_1_to_300_patterns (max_nb_patterns, biased_mean, remove_self_connection, noise = 'flip')"
   ]
  },
  {
   "cell_type": "code",
   "execution_count": 40,
   "metadata": {},
   "outputs": [
    {
     "data": {
      "image/png": "[encoded data removed]",
      "text/plain": [
       "<Figure size 432x288 with 1 Axes>"
      ]
     },
     "metadata": {
      "needs_background": "light"
     },
     "output_type": "display_data"
    }
   ],
   "source": [
    "draw_2_lines (total_nb_stable_patterns_list_removeSelfConn_NoFlip, 'b', 'removeSelfConn_NoFlip',\n",
    "              total_nb_stable_patterns_list_removeSelfConn_Flip,'r', 'removeSelfConn_Flip')"
   ]
  },
  {
   "cell_type": "code",
   "execution_count": 25,
   "metadata": {},
   "outputs": [
    {
     "name": "stdout",
     "output_type": "stream",
     "text": [
      "total_stable_list [1, 2, 3, 4, 5, 6, 7, 8, 9, 10, 11, 12, 13, 14, 15, 16, 17, 18, 19, 20, 21, 22, 23, 24, 25, 26, 27, 28, 29, 30, 31, 32, 33, 34, 35, 36, 37, 38, 39, 40, 41, 42, 43, 44, 45, 46, 47, 48, 49, 50, 51, 52, 53, 54, 55, 56, 57, 58, 59, 60, 61, 62, 63, 64, 65, 66, 67, 68, 69, 70, 71, 72, 73, 74, 75, 76, 77, 78, 79, 80, 81, 82, 83, 84, 85, 86, 87, 88, 89, 90, 91, 92, 93, 94, 95, 96, 97, 98, 99, 100, 101, 102, 103, 104, 105, 106, 107, 108, 109, 110, 111, 112, 113, 114, 115, 116, 117, 118, 119, 120, 121, 122, 123, 124, 125, 126, 127, 128, 129, 130, 131, 132, 133, 134, 135, 136, 137, 138, 139, 140, 141, 142, 143, 144, 145, 146, 147, 148, 149, 150, 151, 152, 153, 154, 155, 156, 157, 158, 159, 160, 161, 162, 163, 164, 165, 166, 167, 168, 169, 170, 171, 172, 173, 174, 175, 176, 177, 178, 179, 180, 181, 182, 183, 184, 185, 186, 187, 188, 189, 190, 191, 192, 193, 194, 195, 196, 197, 198, 199, 200, 201, 202, 203, 204, 205, 206, 207, 208, 209, 210, 211, 212, 213, 214, 215, 216, 217, 218, 219, 220, 221, 222, 223, 224, 225, 226, 227, 228, 229, 230, 231, 232, 233, 234, 235, 236, 237, 238, 239, 240, 241, 242, 243, 244, 245, 246, 247, 248, 249, 250, 251, 252, 253, 254, 255, 256, 257, 258, 259, 260, 261, 262, 263, 264, 265, 266, 267, 268, 269, 270, 271, 272, 273, 274, 275, 276, 277, 278, 279, 280, 281, 282, 283, 284, 285, 286, 287, 288, 289, 290, 291, 292, 293, 294, 295, 296, 297, 298, 299, 300]\n",
      "total_stable_list [1, 2, 3, 4, 5, 3, 7, 6, 0, 2, 1, 0, 2, 0, 0, 0, 0, 0, 0, 0, 0, 0, 0, 0, 0, 0, 0, 0, 0, 0, 0, 0, 0, 0, 0, 0, 0, 0, 0, 0, 0, 0, 0, 0, 0, 0, 0, 0, 0, 0, 0, 0, 0, 0, 0, 0, 0, 0, 0, 0, 0, 0, 0, 0, 0, 0, 0, 0, 0, 0, 0, 0, 0, 0, 0, 0, 0, 0, 0, 0, 0, 0, 0, 0, 0, 0, 0, 0, 0, 0, 0, 0, 0, 0, 0, 0, 0, 0, 0, 0, 0, 0, 0, 0, 0, 0, 0, 0, 0, 0, 0, 0, 0, 0, 0, 0, 0, 0, 0, 0, 0, 0, 0, 0, 0, 0, 0, 0, 0, 0, 0, 0, 0, 0, 0, 0, 0, 0, 0, 0, 0, 0, 0, 0, 0, 0, 0, 0, 0, 0, 0, 0, 0, 0, 0, 0, 0, 0, 0, 0, 0, 0, 0, 0, 0, 0, 0, 0, 0, 0, 0, 0, 0, 0, 0, 0, 0, 0, 0, 0, 0, 0, 0, 0, 0, 0, 0, 0, 0, 0, 0, 0, 0, 0, 0, 0, 0, 0, 0, 0, 0, 0, 0, 0, 0, 0, 0, 0, 0, 0, 0, 0, 0, 0, 0, 0, 0, 0, 0, 0, 0, 0, 0, 0, 0, 0, 0, 0, 0, 0, 0, 0, 0, 0, 0, 0, 0, 0, 0, 0, 0, 0, 0, 0, 0, 0, 0, 0, 0, 0, 0, 0, 0, 0, 0, 0, 0, 0, 0, 0, 0, 0, 0, 0, 0, 0, 0, 0, 0, 0, 0, 0, 0, 0, 0, 0, 0, 0, 0, 0, 0, 0, 0, 0, 0, 0, 0, 0, 0, 0, 0, 0, 0, 0, 0, 0, 0, 0, 0, 0]\n"
     ]
    }
   ],
   "source": [
    " \n",
    "biased_mean = 0.5\n",
    "total_nb_stable_patterns_list_biased_NoFlip = test_1_to_300_patterns (max_nb_patterns, biased_mean, remove_self_connection, noise = 'no flip')\n",
    "\n",
    "total_nb_stable_patterns_list_biased_Flip = test_1_to_300_patterns (max_nb_patterns, biased_mean, remove_self_connection, noise = 'flip')\n"
   ]
  },
  {
   "cell_type": "code",
   "execution_count": 39,
   "metadata": {},
   "outputs": [
    {
     "data": {
      "image/png": "[encoded data removed]",
      "text/plain": [
       "<Figure size 432x288 with 1 Axes>"
      ]
     },
     "metadata": {
      "needs_background": "light"
     },
     "output_type": "display_data"
    }
   ],
   "source": [
    "draw_2_lines (total_nb_stable_patterns_list_biased_NoFlip, 'b', 'bias 0.5 keepSelfConn_NoFlip',\n",
    "              total_nb_stable_patterns_list_biased_Flip,   'r', 'bias 0.5 keepSelfConn_Flip')"
   ]
  },
  {
   "cell_type": "markdown",
   "metadata": {},
   "source": [
    "## Sparse Patterns"
   ]
  },
  {
   "cell_type": "code",
   "execution_count": 216,
   "metadata": {},
   "outputs": [],
   "source": [
    "def sign_fxn_sparse(x):\n",
    "    return np.where(x < 0, 0, 1)\n",
    "\n",
    "def create_random_patterns_sparse(nb_patterns, nb_neurons, biased_mean):\n",
    "    random_patterns= np.zeros ((nb_patterns, nb_neurons))\n",
    "    for i in range (nb_patterns):\n",
    "        for j in range (nb_neurons):\n",
    "            a_value= random.gauss(biased_mean, 1)  # std variance =1\n",
    "            random_patterns[i][j] = sign_fxn_sparse(a_value)\n",
    "    return random_patterns\n",
    "\n",
    "def store_sparse_patterns(input_pattern, rho):\n",
    "    weight_matrix = np.dot((input_pattern - rho).transpose(), (input_pattern - rho))\n",
    "    #output_pattern = sign_fxn_sparse(np.dot(input_pattern, weight_matrix))  \n",
    "    return weight_matrix\n",
    "\n",
    "def check_convergence_sparse(input_pattern, weight_matrix, distorted_pattern, max_iterations, theta):\n",
    "    iterations = 0\n",
    "    while not np.array_equal(input_pattern, distorted_pattern) and iterations < max_iterations:\n",
    "        distorted_pattern = 0.5 + 0.5 * (sign_fxn_sparse(np.dot(distorted_pattern, weight_matrix) - theta))\n",
    "        iterations += 1\n",
    "        \n",
    "    stable_or_not = np.array_equal(input_pattern, distorted_pattern)\n",
    "    #print(stable_or_not)\n",
    "    \n",
    "    return stable_or_not\n",
    "\n",
    "def test_1_to_300_patterns_for_sparse(rho, max_nb_patterns, biased_mean, remove_self_connection, noise):\n",
    "    nb_neurons = 100\n",
    "    flip_percentage = 0.05\n",
    "    nb_flip_bits = int (nb_neurons * flip_percentage)\n",
    "    total_stable_list = []\n",
    "    for i in range (1, max_nb_patterns+1):\n",
    "        nb_patterns=i\n",
    "        random_patterns = create_random_patterns_sparse(nb_patterns, nb_neurons, biased_mean)\n",
    "        weight_matrix = store_sparse_patterns(random_patterns, rho)\n",
    "        if remove_self_connection == \"remove self connection\": \n",
    "            np.fill_diagonal(weight_matrix, 0)\n",
    "\n",
    "        if (noise == \"flip\") :\n",
    "            distorted_pattern_stack = distort_pattern (random_patterns, nb_flip_bits)\n",
    "        elif (noise == \"no flip\") : \n",
    "            distorted_pattern_stack = np.copy(random_patterns) \n",
    "            \n",
    "        sum_stable = 0\n",
    "        for j in range (len(distorted_pattern_stack)):\n",
    "            max_iterations = 5\n",
    "            stable_or_not = check_convergence_sparse(random_patterns[j], weight_matrix, distorted_pattern_stack[j], max_iterations, biased_mean)\n",
    "            one = np.where(stable_or_not == True, 1, 0)\n",
    "            sum_stable += one\n",
    "        total_stable_list.append (sum_stable) \n",
    "    \n",
    "    print (\"total_stable_list\",total_stable_list)\n",
    "    return total_stable_list"
   ]
  },
  {
   "cell_type": "code",
   "execution_count": 217,
   "metadata": {},
   "outputs": [],
   "source": [
    "def get_max_storage(rho):\n",
    "    max_nb_patterns= 15\n",
    "    remove_self_connection = \"remove self connection\"\n",
    "    max_list = []\n",
    "    for i in np.arange(0,5.5,0.5):\n",
    "        bias = i\n",
    "        print(bias)\n",
    "        total_nb_stable_patterns_list_biased_Flip = test_1_to_300_patterns_for_sparse(rho, max_nb_patterns, \n",
    "                                                bias, remove_self_connection, noise = 'flip')\n",
    "        #max_list.append(max(total_nb_stable_patterns_list_biased_Flip))\n",
    "        max_list.append(total_nb_stable_patterns_list_biased_Flip[-1])\n",
    "\n",
    "    return max_list"
   ]
  },
  {
   "cell_type": "code",
   "execution_count": 220,
   "metadata": {},
   "outputs": [
    {
     "name": "stdout",
     "output_type": "stream",
     "text": [
      "0.0\n",
      "total_stable_list [0, 0, 0, 0, 0, 0, 0, 0, 0, 0, 0, 0, 0, 2, 1]\n",
      "0.5\n",
      "total_stable_list [0, 0, 0, 0, 0, 0, 0, 0, 0, 0, 0, 0, 0, 0, 1]\n",
      "1.0\n",
      "total_stable_list [0, 0, 0, 0, 0, 0, 0, 0, 0, 0, 0, 0, 0, 0, 0]\n",
      "1.5\n",
      "total_stable_list [0, 0, 0, 0, 0, 0, 0, 0, 0, 0, 0, 0, 0, 1, 0]\n",
      "2.0\n",
      "total_stable_list [1, 0, 0, 1, 0, 0, 0, 1, 1, 1, 0, 2, 3, 2, 2]\n",
      "2.5\n",
      "total_stable_list [0, 1, 2, 3, 4, 6, 4, 7, 3, 6, 6, 9, 7, 8, 7]\n",
      "3.0\n",
      "total_stable_list [1, 2, 1, 4, 3, 6, 6, 7, 9, 10, 11, 8, 12, 14, 14]\n",
      "3.5\n",
      "total_stable_list [1, 2, 3, 4, 5, 6, 6, 8, 9, 9, 11, 12, 13, 14, 15]\n",
      "4.0\n",
      "total_stable_list [1, 2, 3, 4, 5, 6, 7, 8, 9, 10, 11, 12, 13, 14, 15]\n",
      "4.5\n",
      "total_stable_list [1, 2, 3, 4, 5, 6, 7, 8, 9, 10, 11, 12, 13, 14, 15]\n",
      "5.0\n",
      "total_stable_list [1, 2, 3, 4, 5, 6, 7, 8, 9, 10, 11, 12, 13, 14, 15]\n",
      "[1, 1, 0, 0, 2, 7, 14, 15, 15, 15, 15]\n",
      "0.0\n",
      "total_stable_list [0, 0, 0, 0, 0, 0, 0, 0, 0, 0, 0, 0, 1, 0, 0]\n",
      "0.5\n",
      "total_stable_list [0, 0, 0, 0, 0, 0, 0, 0, 0, 0, 0, 0, 0, 0, 0]\n",
      "1.0\n",
      "total_stable_list [0, 0, 0, 0, 0, 0, 0, 0, 0, 0, 0, 0, 0, 0, 0]\n",
      "1.5\n",
      "total_stable_list [0, 0, 0, 0, 0, 0, 0, 0, 0, 0, 0, 0, 0, 0, 0]\n",
      "2.0\n",
      "total_stable_list [0, 0, 1, 0, 0, 1, 3, 0, 3, 1, 3, 3, 2, 1, 1]\n",
      "2.5\n",
      "total_stable_list [0, 2, 1, 2, 3, 3, 4, 4, 5, 6, 5, 3, 6, 7, 10]\n",
      "3.0\n",
      "total_stable_list [1, 2, 3, 4, 5, 4, 5, 7, 8, 8, 7, 12, 12, 13, 15]\n",
      "3.5\n",
      "total_stable_list [1, 2, 3, 4, 5, 5, 7, 7, 9, 10, 11, 12, 13, 13, 15]\n",
      "4.0\n",
      "total_stable_list [1, 2, 3, 4, 5, 6, 7, 8, 9, 10, 11, 12, 12, 14, 15]\n",
      "4.5\n",
      "total_stable_list [1, 2, 3, 4, 5, 6, 7, 8, 9, 10, 11, 12, 13, 14, 15]\n",
      "5.0\n",
      "total_stable_list [1, 2, 3, 4, 5, 6, 7, 8, 9, 10, 11, 12, 13, 14, 15]\n",
      "[0, 0, 0, 0, 1, 10, 15, 15, 15, 15, 15]\n",
      "0.0\n",
      "total_stable_list [0, 0, 0, 0, 0, 0, 0, 1, 1, 0, 0, 0, 1, 1, 1]\n",
      "0.5\n",
      "total_stable_list [0, 0, 0, 0, 0, 0, 0, 0, 0, 0, 0, 1, 0, 0, 0]\n",
      "1.0\n",
      "total_stable_list [0, 0, 0, 0, 0, 0, 0, 0, 0, 0, 0, 0, 0, 0, 0]\n",
      "1.5\n",
      "total_stable_list [0, 0, 0, 0, 0, 0, 0, 0, 0, 0, 0, 0, 0, 0, 0]\n",
      "2.0\n",
      "total_stable_list [0, 0, 0, 0, 1, 0, 1, 1, 1, 1, 1, 2, 4, 1, 2]\n",
      "2.5\n",
      "total_stable_list [1, 1, 0, 1, 2, 3, 5, 4, 4, 6, 7, 4, 7, 10, 8]\n",
      "3.0\n",
      "total_stable_list [1, 2, 2, 4, 4, 6, 6, 7, 7, 9, 9, 11, 10, 12, 12]\n",
      "3.5\n",
      "total_stable_list [1, 2, 2, 4, 5, 6, 6, 7, 9, 10, 11, 11, 13, 14, 15]\n",
      "4.0\n",
      "total_stable_list [1, 2, 3, 4, 5, 6, 7, 8, 9, 10, 11, 12, 13, 14, 15]\n",
      "4.5\n",
      "total_stable_list [1, 2, 3, 4, 5, 6, 7, 8, 9, 10, 11, 12, 13, 14, 15]\n",
      "5.0\n",
      "total_stable_list [1, 2, 3, 4, 5, 6, 7, 8, 9, 10, 11, 12, 13, 14, 15]\n",
      "[1, 0, 0, 0, 2, 8, 12, 15, 15, 15, 15]\n"
     ]
    },
    {
     "data": {
      "image/png": "[encoded data removed]",
      "text/plain": [
       "<Figure size 432x288 with 1 Axes>"
      ]
     },
     "metadata": {
      "needs_background": "light"
     },
     "output_type": "display_data"
    }
   ],
   "source": [
    "list_1 = get_max_storage(0.1)\n",
    "print(list_1)\n",
    "list_2 = get_max_storage(0.05)\n",
    "print(list_2)\n",
    "list_3 = get_max_storage(0.01)\n",
    "print(list_3)\n",
    "\n",
    "def draw_3_lines (title, l1, color1, label1, \n",
    "                  l2, color2, label2, \n",
    "                  l3, color3, label3,\n",
    "                  xmin= 0 ,xmax= 5,\n",
    "                  ymin= 0, ymax= 20):\n",
    "    l0 = np.arange(0, 5.5, 0.5)\n",
    "    fig = plt.figure()\n",
    "    ax = plt.subplot(111)\n",
    "    ax.plot(l0, l1, c=color1, label=label1 )\n",
    "    ax.plot(l0, l2, c=color2, label=label2 )\n",
    "    ax.plot(l0, l3, c=color3, label=label3 )\n",
    "    ax.legend(loc = 'upper left')\n",
    "    ax.set_ylabel (\"number of patterns\")\n",
    "    ax.set_xlabel (\"Bias\")\n",
    "    ax.set_title(title)\n",
    "    ax.set_xlim([xmin,xmax])\n",
    "    ax.set_ylim([ymin,ymax])\n",
    "    #plt.savefig('D:/Sweden/p3/ANN/lab3/'+ title + '.png', dpi=300)\n",
    "    plt.show() \n",
    "    \n",
    "    \n",
    "draw_3_lines ('Patterns stored vs Bias',\n",
    "              list_1, 'blue', 'activity = 0.1',\n",
    "              list_2, 'cyan', 'activity = 0.05',\n",
    "              list_3, 'orange', 'activity=0.01',\n",
    "              xmin= 0 ,xmax= 5, ymin=0, ymax=20)"
   ]
  },
  {
   "cell_type": "code",
   "execution_count": 141,
   "metadata": {},
   "outputs": [
    {
     "name": "stdout",
     "output_type": "stream",
     "text": [
      "<class 'list'>\n",
      "0.0\n",
      "0.5\n",
      "1.0\n",
      "1.5\n",
      "2.0\n",
      "2.5\n",
      "3.0\n",
      "3.5\n",
      "4.0\n",
      "4.5\n"
     ]
    }
   ],
   "source": [
    "print(type(total_nb_stable_patterns_list_biased_Flip))\n",
    "\n",
    "for i in np.arange(0,5,0.5):\n",
    "    print(i)"
   ]
  }
 ],
 "metadata": {
  "kernelspec": {
   "display_name": "Python 3",
   "language": "python",
   "name": "python3"
  },
  "language_info": {
   "codemirror_mode": {
    "name": "ipython",
    "version": 3
   },
   "file_extension": ".py",
   "mimetype": "text/x-python",
   "name": "python",
   "nbconvert_exporter": "python",
   "pygments_lexer": "ipython3",
   "version": "3.7.4"
  }
 },
 "nbformat": 4,
 "nbformat_minor": 2
}
